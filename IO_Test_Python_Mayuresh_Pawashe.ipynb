{
  "nbformat": 4,
  "nbformat_minor": 0,
  "metadata": {
    "colab": {
      "provenance": []
    },
    "kernelspec": {
      "name": "python3",
      "display_name": "Python 3"
    },
    "language_info": {
      "name": "python"
    }
  },
  "cells": [
    {
      "cell_type": "markdown",
      "source": [
        "#Python Test"
      ],
      "metadata": {
        "id": "8iMyTbiQbZFm"
      }
    },
    {
      "cell_type": "markdown",
      "source": [
        "###Coding: Check if a string contains only unique characters"
      ],
      "metadata": {
        "id": "BWdjl3xwbXRS"
      }
    },
    {
      "cell_type": "code",
      "execution_count": 2,
      "metadata": {
        "colab": {
          "base_uri": "https://localhost:8080/"
        },
        "id": "ec4rf5TPamcE",
        "outputId": "00e39121-b341-40dd-85ec-2c4452493ad4"
      },
      "outputs": [
        {
          "output_type": "stream",
          "name": "stdout",
          "text": [
            "Enter a string: mama\n",
            "The string has duplicate characters.\n"
          ]
        }
      ],
      "source": [
        "def is_unique(s):\n",
        "    return len(s) == len(set(s))\n",
        "user_input = input(\"Enter a string: \")\n",
        "if is_unique(user_input):\n",
        "    print(\"The string contains all unique characters.\")\n",
        "else:\n",
        "    print(\"The string has duplicate characters.\")"
      ]
    },
    {
      "cell_type": "markdown",
      "source": [
        "###Coding: Sum all even numbers in a list"
      ],
      "metadata": {
        "id": "Y8gN3GSVd45b"
      }
    },
    {
      "cell_type": "code",
      "source": [
        "n = int(input(\"Enter the number of elements: \"))\n",
        "numbers = []\n",
        "for i in range(n):\n",
        "    num = int(input(f\"Enter number {i+1}: \"))\n",
        "    numbers.append(num)\n",
        "even_sum = sum([num for num in numbers if num % 2 == 0])\n",
        "print(\"Sum of even numbers:\", even_sum)"
      ],
      "metadata": {
        "colab": {
          "base_uri": "https://localhost:8080/"
        },
        "id": "zdzHzFa-eADS",
        "outputId": "f356b44d-c02e-40b3-ffeb-0898e2a1c4ec"
      },
      "execution_count": 4,
      "outputs": [
        {
          "output_type": "stream",
          "name": "stdout",
          "text": [
            "Enter the number of elements: 6\n",
            "Enter number 1: 4\n",
            "Enter number 2: 3\n",
            "Enter number 3: 6\n",
            "Enter number 4: 7\n",
            "Enter number 5: 7\n",
            "Enter number 6: 7\n",
            "Sum of even numbers: 10\n"
          ]
        }
      ]
    },
    {
      "cell_type": "markdown",
      "source": [
        "###Coding: Count occurrences of each word in a sentence"
      ],
      "metadata": {
        "id": "cYC0k2Ixg2Is"
      }
    },
    {
      "cell_type": "code",
      "source": [
        "from collections import Counter\n",
        "\n",
        "sentence = input(\"Enter a sentence: \")\n",
        "word_counts = Counter(sentence.lower().split())\n",
        "print(\"Word occurrences:\", dict(word_counts))"
      ],
      "metadata": {
        "colab": {
          "base_uri": "https://localhost:8080/"
        },
        "id": "r6vEXiiVg8Bh",
        "outputId": "5107e131-5e50-4fd9-fda9-cfe47f1db9df"
      },
      "execution_count": 5,
      "outputs": [
        {
          "output_type": "stream",
          "name": "stdout",
          "text": [
            "Enter a sentence: hii hello mayuresh hello\n",
            "Word occurrences: {'hii': 1, 'hello': 2, 'mayuresh': 1}\n"
          ]
        }
      ]
    },
    {
      "cell_type": "markdown",
      "source": [
        "###Coding: Return prime numbers from a list"
      ],
      "metadata": {
        "id": "4Bepk0rPi5j2"
      }
    },
    {
      "cell_type": "code",
      "source": [
        "def is_prime(n):\n",
        "    if n < 2:\n",
        "        return False\n",
        "    for i in range(2, int(n ** 0.5) + 1):\n",
        "        if n % i == 0:\n",
        "            return False\n",
        "    return True\n",
        "\n",
        "numbers = [10, 7, 5, 12, 17]\n",
        "prime_numbers = [num for num in numbers if is_prime(num)]\n",
        "print(\"Prime numbers:\", prime_numbers)"
      ],
      "metadata": {
        "colab": {
          "base_uri": "https://localhost:8080/"
        },
        "id": "4MmyE99ii9mn",
        "outputId": "14fa316e-9f56-4e40-ffb0-d5388e48f047"
      },
      "execution_count": 6,
      "outputs": [
        {
          "output_type": "stream",
          "name": "stdout",
          "text": [
            "Prime numbers: [7, 5, 17]\n"
          ]
        }
      ]
    },
    {
      "cell_type": "markdown",
      "source": [
        "###Short Answer: Difference between list and set                                           \n"
      ],
      "metadata": {
        "id": "o99yWSIplVYD"
      }
    },
    {
      "cell_type": "markdown",
      "source": [
        "List:\n",
        "\n",
        "\n",
        "*   List allows duplicate elements.\n",
        "*   List supports indexing and slicing.\n",
        "*   List is Mutable elements can be changed, added, or removed.\n",
        "*   List are Slower for search operations, it scans elements one by one.\n",
        "*   List: Used when order and duplicates matter (e.g., storing sequences).\n",
        "\n",
        "\n",
        "\n"
      ],
      "metadata": {
        "id": "so0g7h1Bl_Cg"
      }
    },
    {
      "cell_type": "markdown",
      "source": [
        "Set:\n",
        "\n",
        "\n",
        "*   Set does not allow duplicates; automatically removes them.\n",
        "*   Set does not support indexing or slicing.\n",
        "*   Set Mutable elements can be added or removed, but individual elements cannot be modified.\n",
        "*   Set are faster lookups due to hashing.\n",
        "*   Set: Used when uniqueness is required (e.g., removing duplicates, checking membership).\n"
      ],
      "metadata": {
        "id": "x7mmEDNKmuMw"
      }
    }
  ]
}